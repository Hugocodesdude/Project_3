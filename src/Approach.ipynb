{
 "cells": [
  {
   "cell_type": "markdown",
   "id": "a85f16c7",
   "metadata": {},
   "source": [
    "# Project Approach "
   ]
  },
  {
   "cell_type": "markdown",
   "id": "157cfb8e",
   "metadata": {},
   "source": [
    "#### Select an office location for a new start up based on the following criteria: \n",
    "\n",
    "- Designers like to go to design talks and share knowledge. \n",
    "- There must be some nearby companies that also do design.\n",
    "- 30% of the company staff have at least 1 child.\n",
    "- Developers like to be near successful tech startups that have raised at least 1 Million dollars.\n",
    "- Executives like Starbucks A LOT. Ensure there's a starbucks not too far.\n",
    "- Account managers need to travel a lot.\n",
    "- Everyone in the company is between 25 and 40, give them some place to go party.\n",
    "- The CEO is vegan.\n",
    "- If you want to make the maintenance guy happy, a basketball stadium must be around 10 Km.\n",
    "- The office dog—\"Dobby\" needs a hairdresser every month. Ensure there's one not too far away.\n"
   ]
  },
  {
   "cell_type": "markdown",
   "id": "256463cf",
   "metadata": {},
   "source": [
    "#### How to approach it \n",
    "\n",
    "1. Query the database\n",
    "2. Use an API to get venues (and for this, you'll need a starting point; some coordinates from which you will call the API)\n",
    "3. Justify your decision using data, not just visualization. How? Maybe measuring distances, maybe assinging weights depending on the importance of your criteria, maybe calculating the density of schools/Starbucks, etc."
   ]
  },
  {
   "cell_type": "markdown",
   "id": "cbf6fae8",
   "metadata": {},
   "source": [
    "#### Option selected \n",
    "\n",
    "Choose three cities that exist in your database. From these cities, query and filter the database according to any other criteria if necessary. Then, make API calls to see if the rest of your criteria are met. Then, compare the three cities. Are any of them better than the other two? Using data, justify why.\n",
    "\n",
    "Once you chose the city, what would be an approximate location?\n",
    "\n",
    "Your result will be a city and a neighbourhood/zip code or adress/coordinates."
   ]
  },
  {
   "cell_type": "markdown",
   "id": "ff2f3f2d",
   "metadata": {},
   "source": [
    "#### Initial thoughts\n",
    "\n",
    "I'd like to review London, Barcelona & Berlin as the potential start-up sights. How ever, I'll let the the data do the talking. "
   ]
  },
  {
   "cell_type": "markdown",
   "id": "e866d494",
   "metadata": {},
   "source": [
    "1. look for companies based on worth, type: design, gaming. \n",
    "2. "
   ]
  }
 ],
 "metadata": {
  "kernelspec": {
   "display_name": "ironhack",
   "language": "python",
   "name": "ironhack"
  },
  "language_info": {
   "codemirror_mode": {
    "name": "ipython",
    "version": 3
   },
   "file_extension": ".py",
   "mimetype": "text/x-python",
   "name": "python",
   "nbconvert_exporter": "python",
   "pygments_lexer": "ipython3",
   "version": "3.9.13"
  }
 },
 "nbformat": 4,
 "nbformat_minor": 5
}
